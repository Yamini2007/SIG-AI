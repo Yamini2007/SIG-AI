{
 "cells": [
  {
   "cell_type": "code",
   "execution_count": 1,
   "id": "7967300c-792b-464b-9a0a-3045a3629656",
   "metadata": {},
   "outputs": [],
   "source": [
    "import pandas as pd\n",
    "import numpy as np\n",
    "from sklearn.preprocessing import StandardScaler\n",
    "from sklearn.metrics import silhouette_score, davies_bouldin_score\n",
    "import matplotlib.pyplot as plt\n",
    "import seaborn as sns\n",
    "#Handling data → pandas, numpy\n",
    "#Preprocessing → StandardScaler\n",
    "#Evaluation → silhouette_score, davies_bouldin_score\n",
    "#Visualization → matplotlib, seaborn"
   ]
  },
  {
   "cell_type": "code",
   "execution_count": 3,
   "id": "135e6233-0d96-4fc0-bb9f-2cf53bc14eae",
   "metadata": {},
   "outputs": [
    {
     "name": "stdout",
     "output_type": "stream",
     "text": [
      "   Channel  Region  Fresh  Milk  Grocery  Frozen  Detergents_Paper  Delicassen\n",
      "0        2       3  12669  9656     7561     214              2674        1338\n",
      "1        2       3   7057  9810     9568    1762              3293        1776\n",
      "2        2       3   6353  8808     7684    2405              3516        7844\n",
      "3        1       3  13265  1196     4221    6404               507        1788\n",
      "4        2       3  22615  5410     7198    3915              1777        5185\n"
     ]
    }
   ],
   "source": [
    "url = \"https://archive.ics.uci.edu/ml/machine-learning-databases/00292/Wholesale%20customers%20data.csv\"\n",
    "data = pd.read_csv(url)\n",
    "#this uses pandas to read csv file\n",
    "print(data.head())\n"
   ]
  },
  {
   "cell_type": "code",
   "execution_count": 4,
   "id": "84af1883-61bd-4225-9167-0e64859ccc75",
   "metadata": {},
   "outputs": [],
   "source": [
    "# Droping non-numeric features\n",
    "X = data.drop(['Channel', 'Region'], axis=1)\n",
    "#drop coloum\n",
    "\n",
    "# Standardize the features\n",
    "scaler = StandardScaler()\n",
    "X_scaled = scaler.fit_transform(X)\n"
   ]
  },
  {
   "cell_type": "code",
   "execution_count": 5,
   "id": "af7f2990-3ccf-4619-bfdd-e60d4dfa5f92",
   "metadata": {},
   "outputs": [],
   "source": [
    "#k-means clustering step\n",
    "from sklearn.cluster import KMeans\n",
    "#n_clusters=3 means asking kmeans to groupndata into 3 clusters\n",
    "#random_state=0c\n",
    "kmeans = KMeans(n_clusters=3, random_state=0)\n",
    "#Randomly selecting 3 centroids (points in space);Assigning each data point to the nearest centroid;Recomputing centroids and repeating until stable.\n",
    "kmeans_labels = kmeans.fit_predict(X_scaled)\n",
    "#.fit_predict() does two things:1)Fits the model (learns the clusters from data);Predicts the cluster label for each data point (e.g., 0, 1, or 2 for 3 clusters).\n",
    "# kmeans_labels is now an array that tells which cluster each customer belongs to.\n",
    "\n"
   ]
  },
  {
   "cell_type": "code",
   "execution_count": 6,
   "id": "23a103bf-7fd1-45a6-9b49-cb6d8b3e238d",
   "metadata": {},
   "outputs": [
    {
     "name": "stdout",
     "output_type": "stream",
     "text": [
      "K-Means Silhouette Score: 0.3916016573908254\n",
      "K-Means Davies-Bouldin Index: 1.2494010354240845\n"
     ]
    }
   ],
   "source": [
    "kmeans_sil = silhouette_score(X_scaled, kmeans_labels)\n",
    "kmeans_db = davies_bouldin_score(X_scaled, kmeans_labels)\n",
    "\n",
    "print(\"K-Means Silhouette Score:\", kmeans_sil)\n",
    "print(\"K-Means Davies-Bouldin Index:\", kmeans_db)\n"
   ]
  },
  {
   "cell_type": "code",
   "execution_count": 7,
   "id": "cecfa199-0be5-44e1-af5e-61ce8ee7165e",
   "metadata": {},
   "outputs": [],
   "source": [
    "from sklearn.cluster import DBSCAN\n",
    "dbscan = DBSCAN(eps=1.5, min_samples=5)\n",
    "#DBSCAN(eps=1.5, min_samples=5)\tClusters points that have 5 or more neighbors within a distance of 1.5\n",
    "#dbscan\tA model that can now be used to find clusters in data\n",
    "\n",
    "dbscan_labels = dbscan.fit_predict(X_scaled)\n",
    "#fit()--Learn the clusters from data\n",
    "#predict--Assign a cluster label to each data point"
   ]
  },
  {
   "cell_type": "code",
   "execution_count": 9,
   "id": "69af0049-dbcd-4e0e-8b76-0c965f8426c5",
   "metadata": {},
   "outputs": [
    {
     "name": "stdout",
     "output_type": "stream",
     "text": [
      "DBSCAN did not form enough clusters to evaluate.\n"
     ]
    }
   ],
   "source": [
    "# Get the number of unique clusters (excluding noise if present)\n",
    "unique_labels = set(dbscan_labels)\n",
    "n_clusters = len(unique_labels) - (1 if -1 in dbscan_labels else 0)\n",
    "\n",
    "if n_clusters > 1:\n",
    "    mask = dbscan_labels != -1\n",
    "    dbscan_sil = silhouette_score(X_scaled[mask], dbscan_labels[mask])\n",
    "    dbscan_db = davies_bouldin_score(X_scaled[mask], dbscan_labels[mask])\n",
    "#Silhouette Score – tells how well points fit their own cluster (higher is better).\n",
    "#Davies-Bouldin Index – lower is better; measures how well clusters are separated.\n",
    "# we need at least 2 clusters to compute Silhouette Score and DB Index.\n",
    "\n",
    " \n",
    "    print(\"DBSCAN Silhouette Score:\", dbscan_sil)\n",
    "    print(\"DBSCAN Davies-Bouldin Index:\", dbscan_db)\n",
    "else:\n",
    "    print(\"DBSCAN did not form enough clusters to evaluate.\")\n",
    "#### DBSCAN Evaluation--DBSCAN did not form enough distinct clusters to compute Silhouette Score \n",
    "#and Davies-Bouldin Index. This can happen when the dataset doesn't have density-based cluster patterns that DBSCAN can capture with\n",
    "#default or slightly tuned parameters. Therefore, DBSCAN was not suitable for this dataset, while K-Means and Hierarchical Clustering \n",
    "#performed better.\n"
   ]
  },
  {
   "cell_type": "code",
   "execution_count": 13,
   "id": "9a6b0b6a-2bbc-4aa4-8938-a7b7f6aae7e6",
   "metadata": {},
   "outputs": [],
   "source": [
    "from sklearn.cluster import AgglomerativeClustering\n",
    "\n",
    "hc = AgglomerativeClustering(n_clusters=3)\n",
    "hc_labels = hc.fit_predict(X_scaled)\n"
   ]
  },
  {
   "cell_type": "code",
   "execution_count": 15,
   "id": "32cb3762-c6a8-4569-bacf-fa62751d685c",
   "metadata": {},
   "outputs": [],
   "source": [
    "# Assuming your hierarchical model is fitted and labels are stored in hc_labels\n",
    "from sklearn.metrics import silhouette_score, davies_bouldin_score\n",
    "\n",
    "hc_sil = silhouette_score(X_scaled, hc_labels)\n",
    "hc_db = davies_bouldin_score(X_scaled, hc_labels)\n"
   ]
  },
  {
   "cell_type": "code",
   "execution_count": 16,
   "id": "798d6eab-1009-4050-9d63-4b53b792f961",
   "metadata": {},
   "outputs": [
    {
     "name": "stdout",
     "output_type": "stream",
     "text": [
      "      Algorithm Silhouette Score Davies-Bouldin Index\n",
      "0       K-Means         0.391602             1.249401\n",
      "1        DBSCAN              N/A                  N/A\n",
      "2  Hierarchical         0.264609             1.284521\n"
     ]
    }
   ],
   "source": [
    "# n_clusters holds number of actual clusters DBSCAN found\n",
    "#set(dbscan_labels)--gets all unique cluster labels\n",
    "n_clusters = len(set(dbscan_labels)) - (1 if -1 in dbscan_labels else 0)\n",
    "\n",
    "# calculating DBSCAN scores only if it formed enough clusters\n",
    "if n_clusters > 1:\n",
    "    mask = dbscan_labels != -1\n",
    "    dbscan_sil = silhouette_score(X_scaled[mask], dbscan_labels[mask])\n",
    "    dbscan_db = davies_bouldin_score(X_scaled[mask], dbscan_labels[mask])\n",
    "else:\n",
    "    dbscan_sil = \"N/A\"#Not Applica\n",
    "    dbscan_db = \"N/A\"\n",
    "\n",
    "# Hierarchical clustering scores (ensure hc_labels is defined)\n",
    "hc_sil = silhouette_score(X_scaled, hc_labels)\n",
    "hc_db = davies_bouldin_score(X_scaled, hc_labels)\n",
    "\n",
    "# Results table\n",
    "results = pd.DataFrame({\n",
    "    \"Algorithm\": [\"K-Means\", \"DBSCAN\", \"Hierarchical\"],\n",
    "    \"Silhouette Score\": [kmeans_sil, dbscan_sil, hc_sil],\n",
    "    \"Davies-Bouldin Index\": [kmeans_db, dbscan_db, hc_db]\n",
    "})\n",
    "\n",
    "print(results)\n"
   ]
  },
  {
   "cell_type": "code",
   "execution_count": null,
   "id": "d74c2060-8ed5-4968-803a-b241978a27fa",
   "metadata": {},
   "outputs": [],
   "source": [
    "## 📌 Conclusion\n",
    "\n",
    "In this unsupervised learning task, we explored clustering techniques on the **Wine dataset** from the UCI Machine Learning Repository. The key steps and findings are summarized below:\n",
    "\n",
    "- ✅ **Data Preprocessing:** Scaled the features using `StandardScaler` for fair clustering performance.\n",
    "- ✅ **K-Means Clustering:** Successfully applied with `n_clusters=3`. Evaluation:\n",
    "  - Silhouette Score: ✅ Calculated\n",
    "  - Davies-Bouldin Index: ✅ Calculated\n",
    "- ✅ **Hierarchical Clustering:** Applied with `n_clusters=3`. Evaluation:\n",
    "  - Silhouette Score: ✅ Calculated\n",
    "  - Davies-Bouldin Index: ✅ Calculated\n",
    "- ✅ **DBSCAN Clustering:** Applied using default parameters. However, it did **not form enough clusters** for evaluation. A check was included to handle this case gracefully and print a user-friendly message.\n",
    "  - Silhouette Score: ❌ Not applicable\n",
    "  - Davies-Bouldin Index: ❌ Not applicable\n",
    "\n",
    "### 📊 Final Comparison Table:\n",
    "\n",
    "| Algorithm      | Silhouette Score | Davies-Bouldin Index |\n",
    "|----------------|------------------|-----------------------|\n",
    "| K-Means        | ✅ Value shown   | ✅ Value shown        |\n",
    "| DBSCAN         | ❌ Not enough clusters | ❌ Not enough clusters |\n",
    "| Hierarchical   | ✅ Value shown   | ✅ Value shown        |\n",
    "\n",
    "### ✅ Task Completed\n",
    "\n",
    "This project demonstrates how different clustering algorithms perform on the same dataset and how evaluation metrics like **Silhouette Score** and **Davies-Bouldin Index** help compare their quality.\n",
    "\n"
   ]
  }
 ],
 "metadata": {
  "kernelspec": {
   "display_name": "Python (myenv)",
   "language": "python",
   "name": "myenv"
  },
  "language_info": {
   "codemirror_mode": {
    "name": "ipython",
    "version": 3
   },
   "file_extension": ".py",
   "mimetype": "text/x-python",
   "name": "python",
   "nbconvert_exporter": "python",
   "pygments_lexer": "ipython3",
   "version": "3.12.5"
  }
 },
 "nbformat": 4,
 "nbformat_minor": 5
}
